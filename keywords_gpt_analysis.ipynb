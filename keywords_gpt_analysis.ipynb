{
 "cells": [
  {
   "cell_type": "code",
   "execution_count": null,
   "metadata": {},
   "outputs": [],
   "source": [
    "%%bash\n",
    "\n",
    "wget -O keywords.py https://raw.githubusercontent.com/Kaggle/kaggle-environments/master/kaggle_environments/envs/llm_20_questions/keywords.py"
   ]
  },
  {
   "cell_type": "code",
   "execution_count": 4,
   "metadata": {},
   "outputs": [],
   "source": [
    "import json\n",
    "import pandas as pd\n",
    "import numpy as np\n",
    "\n",
    "\n",
    "from keywords import KEYWORDS_JSON\n",
    "\n",
    "def create_keyword_df(KEYWORDS_JSON):\n",
    "    json_data = json.loads(KEYWORDS_JSON)\n",
    "\n",
    "    keyword_list = []\n",
    "    category_list = []\n",
    "    alts_list = []\n",
    "\n",
    "    for i in range(len(json_data)):\n",
    "        for j in range(len(json_data[i]['words'])):\n",
    "            keyword = json_data[i]['words'][j]['keyword']\n",
    "            keyword_list.append(keyword)\n",
    "            category_list.append(json_data[i]['category'])\n",
    "            alts_list.append(json_data[i]['words'][j]['alts'])\n",
    "\n",
    "    data_pd = pd.DataFrame(columns=['keyword', 'category', 'alts'])\n",
    "    data_pd['keyword'] = keyword_list\n",
    "    data_pd['category'] = category_list\n",
    "    data_pd['alts'] = alts_list\n",
    "    \n",
    "    return data_pd\n"
   ]
  },
  {
   "cell_type": "code",
   "execution_count": 5,
   "metadata": {},
   "outputs": [
    {
     "name": "stdout",
     "output_type": "stream",
     "text": [
      "['Advertisement', 'Agave', 'Air compressor', 'Air Conditioner', 'Air filter']\n",
      "579\n"
     ]
    }
   ],
   "source": [
    "keyword_df = create_keyword_df(KEYWORDS_JSON)\n",
    "\n",
    "place_list = keyword_df[keyword_df['category'] == 'place']['keyword'].to_list()\n",
    "things_list = keyword_df[keyword_df['category'] == 'things']['keyword'].to_list()\n",
    "\n",
    "print(things_list[:5])\n",
    "print(len(things_list))"
   ]
  },
  {
   "cell_type": "code",
   "execution_count": 6,
   "metadata": {},
   "outputs": [],
   "source": [
    "things_questions = [\n",
    "    \"Is the thing related to food or drink in any way?\",\n",
    "    \"Would the keyword be included in the broad category of Machines?\",\n",
    "    \"Is it tangible?\",\n",
    "    \"Is it water-based?\",\n",
    "    \"is it a living thing?\",   \n",
    "    \"Would the keyword be considered a Home appliance?\",\n",
    "    \n",
    "]"
   ]
  },
  {
   "cell_type": "code",
   "execution_count": 7,
   "metadata": {},
   "outputs": [],
   "source": [
    "from openai import OpenAI\n",
    "import pandas as pd\n",
    "from dotenv import load_dotenv\n",
    "from tqdm import tqdm\n",
    "\n",
    "\n",
    "class KeywordClassifier:\n",
    "    def __init__(self, keywords: list, csv_path: str = None):\n",
    "        load_dotenv()\n",
    "        self.client = OpenAI()\n",
    "        self.keywords = keywords\n",
    "        self.csv_path = csv_path\n",
    "        if self.csv_path:\n",
    "            self.df = pd.read_csv(csv_path)\n",
    "        else:\n",
    "            self.df = pd.DataFrame(index=keywords)\n",
    "            self.csv_path = \"mapped_keywords.csv\"\n",
    "            \n",
    "        print(\"Keyword Classifier Initialized\")\n",
    "        self.preview()\n",
    "\n",
    "    def _classify(self, question, keyword):\n",
    "        response = self.client.chat.completions.create(\n",
    "            model=\"gpt-4o-mini\",\n",
    "            messages=[\n",
    "                {\n",
    "                    \"role\": \"system\",\n",
    "                    \"content\": \"You are a helpful assistant. Your goal is to classify the keyword to the question. Answer only with 'yes' or 'no'.\",\n",
    "                },\n",
    "                {\"role\": \"user\", \"content\": f\"Keyword: {keyword} \\nQuestion: {question}\"},\n",
    "            ],\n",
    "        )\n",
    "        message = response.choices[0].message.content.lower()\n",
    "\n",
    "        if \"yes\" in message:\n",
    "            return \"yes\"\n",
    "        else:\n",
    "            return \"no\"\n",
    "        \n",
    "    def preview(self):\n",
    "        print(\"Printing first 3 rows of the dataframe\")\n",
    "        print(self.df.head(3))\n",
    "        \n",
    "\n",
    "    def update(self, questions: list):\n",
    "        added_question_count = 0\n",
    "        for question in tqdm(questions, desc=\"Processing questions\"):\n",
    "            if question in self.df.columns:\n",
    "                continue\n",
    "\n",
    "            added_question_count += 1\n",
    "\n",
    "            for keyword in tqdm(self.df.index, desc=\"Classifying keywords\"):\n",
    "                self.df.loc[keyword, question] = self._classify(question, keyword)\n",
    "\n",
    "            self.df.to_csv(self.csv_path)\n",
    "            \n",
    "        print(f\"Added {added_question_count} questions\")\n",
    "        print(f\"Saved to {self.csv_path}\")\n",
    "        "
   ]
  },
  {
   "cell_type": "code",
   "execution_count": 8,
   "metadata": {},
   "outputs": [
    {
     "name": "stdout",
     "output_type": "stream",
     "text": [
      "579\n"
     ]
    }
   ],
   "source": [
    "print(len(things_list))"
   ]
  },
  {
   "cell_type": "code",
   "execution_count": 9,
   "metadata": {},
   "outputs": [
    {
     "name": "stdout",
     "output_type": "stream",
     "text": [
      "Keyword Classifier Initialized\n",
      "Printing first 3 rows of the dataframe\n",
      "Empty DataFrame\n",
      "Columns: []\n",
      "Index: [Advertisement, Agave, Air compressor]\n"
     ]
    },
    {
     "name": "stderr",
     "output_type": "stream",
     "text": [
      "Classifying keywords: 100%|██████████| 579/579 [00:00<00:00, 2394972.40it/s]\n",
      "Classifying keywords: 100%|██████████| 579/579 [00:00<00:00, 4321177.96it/s]\n",
      "Classifying keywords: 100%|██████████| 579/579 [00:00<00:00, 4752450.13it/s]\n",
      "Classifying keywords: 100%|██████████| 579/579 [00:00<00:00, 3308585.85it/s]\n",
      "Classifying keywords: 100%|██████████| 579/579 [00:00<00:00, 4283072.34it/s]\n",
      "Classifying keywords: 100%|██████████| 579/579 [00:00<00:00, 2894519.69it/s]\n",
      "Processing questions: 100%|██████████| 6/6 [00:00<00:00, 237.90it/s]"
     ]
    },
    {
     "name": "stdout",
     "output_type": "stream",
     "text": [
      "Added 6 questions\n",
      "Saved to mapped_keywords.csv\n",
      "Printing first 3 rows of the dataframe\n",
      "Empty DataFrame\n",
      "Columns: []\n",
      "Index: [Advertisement, Agave, Air compressor]\n"
     ]
    },
    {
     "name": "stderr",
     "output_type": "stream",
     "text": [
      "\n"
     ]
    }
   ],
   "source": [
    "classifier = KeywordClassifier(keywords=things_list)\n",
    "\n",
    "classifier.update(things_questions)\n",
    "classifier.preview()"
   ]
  },
  {
   "cell_type": "code",
   "execution_count": null,
   "metadata": {},
   "outputs": [],
   "source": [
    "from matplotlib import pyplot as plt\n",
    "import numpy as np\n",
    "import pandas as pd\n",
    "\n",
    "# Load the data\n",
    "df = pd.read_csv('mapped_keywords.csv', index_col=0)"
   ]
  },
  {
   "cell_type": "code",
   "execution_count": null,
   "metadata": {},
   "outputs": [],
   "source": [
    "df.head(3)"
   ]
  },
  {
   "cell_type": "code",
   "execution_count": null,
   "metadata": {},
   "outputs": [],
   "source": [
    "percentages = {}\n",
    "for column in df.columns:\n",
    "    percentages[column] = df[column].value_counts(normalize=True).get('yes', 0) * 100\n",
    "\n",
    "# Plotting\n",
    "fig, axes = plt.subplots(nrows=3, ncols=2, figsize=(12, 12))  # Adjust the size as needed\n",
    "axes = axes.flatten()  # Flatten the array to make iteration easier\n",
    "\n",
    "for ax, (column, percentage) in zip(axes, percentages.items()):\n",
    "    ax.bar(['Yes', 'No'], [percentage, 100-percentage], color=['blue', 'red'])\n",
    "    ax.set_title(f'Percentage of Yes in {column}')\n",
    "    ax.set_ylabel('Percentage')\n",
    "    ax.set_ylim(0, 100)  # Set y-axis limits to 0-100 for percentage view\n",
    "    ax.grid(True, which='both', linestyle='--', linewidth=0.5)\n",
    "\n",
    "plt.tight_layout()\n",
    "plt.show()"
   ]
  }
 ],
 "metadata": {
  "kernelspec": {
   "display_name": "slm",
   "language": "python",
   "name": "python3"
  },
  "language_info": {
   "codemirror_mode": {
    "name": "ipython",
    "version": 3
   },
   "file_extension": ".py",
   "mimetype": "text/x-python",
   "name": "python",
   "nbconvert_exporter": "python",
   "pygments_lexer": "ipython3",
   "version": "3.12.3"
  }
 },
 "nbformat": 4,
 "nbformat_minor": 2
}
